{
  "nbformat": 4,
  "nbformat_minor": 0,
  "metadata": {
    "colab": {
      "provenance": []
    },
    "kernelspec": {
      "name": "python3",
      "display_name": "Python 3"
    },
    "language_info": {
      "name": "python"
    }
  },
  "cells": [
    {
      "cell_type": "code",
      "source": [
        "import pandas as pd \n",
        "import numpy as np\n",
        "import matplotlib.pyplot as plt\n",
        "import locale\n",
        "locale.setlocale(locale.LC_MONETARY, 'en_US.UTF-8')\n"
      ],
      "metadata": {
        "colab": {
          "base_uri": "https://localhost:8080/",
          "height": 35
        },
        "id": "LsxX-OZnTOqH",
        "outputId": "bedd6a1a-c686-4f14-ad8f-b202185cdb62"
      },
      "execution_count": null,
      "outputs": [
        {
          "output_type": "execute_result",
          "data": {
            "text/plain": [
              "'en_US.UTF-8'"
            ],
            "application/vnd.google.colaboratory.intrinsic+json": {
              "type": "string"
            }
          },
          "metadata": {},
          "execution_count": 2
        }
      ]
    },
    {
      "cell_type": "code",
      "execution_count": null,
      "metadata": {
        "colab": {
          "base_uri": "https://localhost:8080/",
          "height": 206
        },
        "id": "oqiWDUEFSuZ7",
        "outputId": "1c8bab62-c6b2-491f-f5ae-0d3c0a7f25bf"
      },
      "outputs": [
        {
          "output_type": "execute_result",
          "data": {
            "text/plain": [
              "                                  Game   Developer(s) Publisher  \\\n",
              "0  Pokémon Red / Green / Blue / Yellow     Game Freak  Nintendo   \n",
              "1                               Tetris  Nintendo R&D1  Nintendo   \n",
              "2      Pokémon Gold / Silver / Crystal     Game Freak  Nintendo   \n",
              "3                     Super Mario Land  Nintendo R&D1  Nintendo   \n",
              "4   Super Mario Land 2: 6 Golden Coins  Nintendo R&D1  Nintendo   \n",
              "\n",
              "         Platform Release date     Sales  \n",
              "0        Game Boy   1996-02-27  46020000  \n",
              "1        Game Boy   1989-06-14  35000000  \n",
              "2  Game Boy Color   1999-11-21  29490000  \n",
              "3        Game Boy   1989-04-21  18140000  \n",
              "4        Game Boy   1992-10-21  11180000  "
            ],
            "text/html": [
              "\n",
              "  <div id=\"df-907778ec-d4cd-4d58-a214-c7fddce05e5a\">\n",
              "    <div class=\"colab-df-container\">\n",
              "      <div>\n",
              "<style scoped>\n",
              "    .dataframe tbody tr th:only-of-type {\n",
              "        vertical-align: middle;\n",
              "    }\n",
              "\n",
              "    .dataframe tbody tr th {\n",
              "        vertical-align: top;\n",
              "    }\n",
              "\n",
              "    .dataframe thead th {\n",
              "        text-align: right;\n",
              "    }\n",
              "</style>\n",
              "<table border=\"1\" class=\"dataframe\">\n",
              "  <thead>\n",
              "    <tr style=\"text-align: right;\">\n",
              "      <th></th>\n",
              "      <th>Game</th>\n",
              "      <th>Developer(s)</th>\n",
              "      <th>Publisher</th>\n",
              "      <th>Platform</th>\n",
              "      <th>Release date</th>\n",
              "      <th>Sales</th>\n",
              "    </tr>\n",
              "  </thead>\n",
              "  <tbody>\n",
              "    <tr>\n",
              "      <th>0</th>\n",
              "      <td>Pokémon Red / Green / Blue / Yellow</td>\n",
              "      <td>Game Freak</td>\n",
              "      <td>Nintendo</td>\n",
              "      <td>Game Boy</td>\n",
              "      <td>1996-02-27</td>\n",
              "      <td>46020000</td>\n",
              "    </tr>\n",
              "    <tr>\n",
              "      <th>1</th>\n",
              "      <td>Tetris</td>\n",
              "      <td>Nintendo R&amp;D1</td>\n",
              "      <td>Nintendo</td>\n",
              "      <td>Game Boy</td>\n",
              "      <td>1989-06-14</td>\n",
              "      <td>35000000</td>\n",
              "    </tr>\n",
              "    <tr>\n",
              "      <th>2</th>\n",
              "      <td>Pokémon Gold / Silver / Crystal</td>\n",
              "      <td>Game Freak</td>\n",
              "      <td>Nintendo</td>\n",
              "      <td>Game Boy Color</td>\n",
              "      <td>1999-11-21</td>\n",
              "      <td>29490000</td>\n",
              "    </tr>\n",
              "    <tr>\n",
              "      <th>3</th>\n",
              "      <td>Super Mario Land</td>\n",
              "      <td>Nintendo R&amp;D1</td>\n",
              "      <td>Nintendo</td>\n",
              "      <td>Game Boy</td>\n",
              "      <td>1989-04-21</td>\n",
              "      <td>18140000</td>\n",
              "    </tr>\n",
              "    <tr>\n",
              "      <th>4</th>\n",
              "      <td>Super Mario Land 2: 6 Golden Coins</td>\n",
              "      <td>Nintendo R&amp;D1</td>\n",
              "      <td>Nintendo</td>\n",
              "      <td>Game Boy</td>\n",
              "      <td>1992-10-21</td>\n",
              "      <td>11180000</td>\n",
              "    </tr>\n",
              "  </tbody>\n",
              "</table>\n",
              "</div>\n",
              "      <button class=\"colab-df-convert\" onclick=\"convertToInteractive('df-907778ec-d4cd-4d58-a214-c7fddce05e5a')\"\n",
              "              title=\"Convert this dataframe to an interactive table.\"\n",
              "              style=\"display:none;\">\n",
              "        \n",
              "  <svg xmlns=\"http://www.w3.org/2000/svg\" height=\"24px\"viewBox=\"0 0 24 24\"\n",
              "       width=\"24px\">\n",
              "    <path d=\"M0 0h24v24H0V0z\" fill=\"none\"/>\n",
              "    <path d=\"M18.56 5.44l.94 2.06.94-2.06 2.06-.94-2.06-.94-.94-2.06-.94 2.06-2.06.94zm-11 1L8.5 8.5l.94-2.06 2.06-.94-2.06-.94L8.5 2.5l-.94 2.06-2.06.94zm10 10l.94 2.06.94-2.06 2.06-.94-2.06-.94-.94-2.06-.94 2.06-2.06.94z\"/><path d=\"M17.41 7.96l-1.37-1.37c-.4-.4-.92-.59-1.43-.59-.52 0-1.04.2-1.43.59L10.3 9.45l-7.72 7.72c-.78.78-.78 2.05 0 2.83L4 21.41c.39.39.9.59 1.41.59.51 0 1.02-.2 1.41-.59l7.78-7.78 2.81-2.81c.8-.78.8-2.07 0-2.86zM5.41 20L4 18.59l7.72-7.72 1.47 1.35L5.41 20z\"/>\n",
              "  </svg>\n",
              "      </button>\n",
              "      \n",
              "  <style>\n",
              "    .colab-df-container {\n",
              "      display:flex;\n",
              "      flex-wrap:wrap;\n",
              "      gap: 12px;\n",
              "    }\n",
              "\n",
              "    .colab-df-convert {\n",
              "      background-color: #E8F0FE;\n",
              "      border: none;\n",
              "      border-radius: 50%;\n",
              "      cursor: pointer;\n",
              "      display: none;\n",
              "      fill: #1967D2;\n",
              "      height: 32px;\n",
              "      padding: 0 0 0 0;\n",
              "      width: 32px;\n",
              "    }\n",
              "\n",
              "    .colab-df-convert:hover {\n",
              "      background-color: #E2EBFA;\n",
              "      box-shadow: 0px 1px 2px rgba(60, 64, 67, 0.3), 0px 1px 3px 1px rgba(60, 64, 67, 0.15);\n",
              "      fill: #174EA6;\n",
              "    }\n",
              "\n",
              "    [theme=dark] .colab-df-convert {\n",
              "      background-color: #3B4455;\n",
              "      fill: #D2E3FC;\n",
              "    }\n",
              "\n",
              "    [theme=dark] .colab-df-convert:hover {\n",
              "      background-color: #434B5C;\n",
              "      box-shadow: 0px 1px 3px 1px rgba(0, 0, 0, 0.15);\n",
              "      filter: drop-shadow(0px 1px 2px rgba(0, 0, 0, 0.3));\n",
              "      fill: #FFFFFF;\n",
              "    }\n",
              "  </style>\n",
              "\n",
              "      <script>\n",
              "        const buttonEl =\n",
              "          document.querySelector('#df-907778ec-d4cd-4d58-a214-c7fddce05e5a button.colab-df-convert');\n",
              "        buttonEl.style.display =\n",
              "          google.colab.kernel.accessAllowed ? 'block' : 'none';\n",
              "\n",
              "        async function convertToInteractive(key) {\n",
              "          const element = document.querySelector('#df-907778ec-d4cd-4d58-a214-c7fddce05e5a');\n",
              "          const dataTable =\n",
              "            await google.colab.kernel.invokeFunction('convertToInteractive',\n",
              "                                                     [key], {});\n",
              "          if (!dataTable) return;\n",
              "\n",
              "          const docLinkHtml = 'Like what you see? Visit the ' +\n",
              "            '<a target=\"_blank\" href=https://colab.research.google.com/notebooks/data_table.ipynb>data table notebook</a>'\n",
              "            + ' to learn more about interactive tables.';\n",
              "          element.innerHTML = '';\n",
              "          dataTable['output_type'] = 'display_data';\n",
              "          await google.colab.output.renderOutput(dataTable, element);\n",
              "          const docLink = document.createElement('div');\n",
              "          docLink.innerHTML = docLinkHtml;\n",
              "          element.appendChild(docLink);\n",
              "        }\n",
              "      </script>\n",
              "    </div>\n",
              "  </div>\n",
              "  "
            ]
          },
          "metadata": {},
          "execution_count": 3
        }
      ],
      "source": [
        "df = pd.read_csv('/content/drive/MyDrive/best-selling-gameboy.csv')\n",
        "df.head()"
      ]
    },
    {
      "cell_type": "code",
      "source": [
        "df.info()"
      ],
      "metadata": {
        "colab": {
          "base_uri": "https://localhost:8080/"
        },
        "id": "hwfN_qGXTxof",
        "outputId": "6f0a7e51-7ccf-4026-a8bf-01d4c96eff45"
      },
      "execution_count": null,
      "outputs": [
        {
          "output_type": "stream",
          "name": "stdout",
          "text": [
            "<class 'pandas.core.frame.DataFrame'>\n",
            "RangeIndex: 66 entries, 0 to 65\n",
            "Data columns (total 6 columns):\n",
            " #   Column        Non-Null Count  Dtype \n",
            "---  ------        --------------  ----- \n",
            " 0   Game          66 non-null     object\n",
            " 1   Developer(s)  66 non-null     object\n",
            " 2   Publisher     66 non-null     object\n",
            " 3   Platform      66 non-null     object\n",
            " 4   Release date  66 non-null     object\n",
            " 5   Sales         66 non-null     int64 \n",
            "dtypes: int64(1), object(5)\n",
            "memory usage: 3.2+ KB\n"
          ]
        }
      ]
    },
    {
      "cell_type": "code",
      "source": [
        "df = df.sort_values('Sales', ascending=False)\n",
        "df.head(20)"
      ],
      "metadata": {
        "colab": {
          "base_uri": "https://localhost:8080/",
          "height": 677
        },
        "id": "0LpnvC2YTU8O",
        "outputId": "f7bbd6df-439c-414a-9802-4a978eb223e4"
      },
      "execution_count": null,
      "outputs": [
        {
          "output_type": "execute_result",
          "data": {
            "text/plain": [
              "                                                 Game  \\\n",
              "0                 Pokémon Red / Green / Blue / Yellow   \n",
              "1                                              Tetris   \n",
              "2                     Pokémon Gold / Silver / Crystal   \n",
              "3                                    Super Mario Land   \n",
              "4                  Super Mario Land 2: 6 Golden Coins   \n",
              "5                                           Dr. Mario   \n",
              "6                                     Pokémon Pinball   \n",
              "7                      Wario Land: Super Mario Land 3   \n",
              "8                                  Kirby's Dream Land   \n",
              "9                            Super Mario Bros. Deluxe   \n",
              "10  The Legend of Zelda: Oracle of Seasons and Ora...   \n",
              "11                                   Donkey Kong Land   \n",
              "12              The Legend of Zelda: Link's Awakening   \n",
              "13                          Pokémon Trading Card Game   \n",
              "14                                           F-1 Race   \n",
              "15                                              Yoshi   \n",
              "16                                        Donkey Kong   \n",
              "17           Tamagotchi (Game de Hakken!! Tamagotchi)   \n",
              "18  Yu-Gi-Oh! Duel Monsters 4: Battle of Great Due...   \n",
              "19                        Yu-Gi-Oh! Dark Duel Stories   \n",
              "\n",
              "                      Developer(s) Publisher        Platform Release date  \\\n",
              "0                       Game Freak  Nintendo        Game Boy   1996-02-27   \n",
              "1                    Nintendo R&D1  Nintendo        Game Boy   1989-06-14   \n",
              "2                       Game Freak  Nintendo  Game Boy Color   1999-11-21   \n",
              "3                    Nintendo R&D1  Nintendo        Game Boy   1989-04-21   \n",
              "4                    Nintendo R&D1  Nintendo        Game Boy   1992-10-21   \n",
              "5                    Nintendo R&D1  Nintendo        Game Boy   1990-07-27   \n",
              "6                          Jupiter  Nintendo  Game Boy Color   1999-04-14   \n",
              "7                    Nintendo R&D1  Nintendo        Game Boy   1994-01-21   \n",
              "8                   HAL Laboratory  Nintendo        Game Boy   1992-04-27   \n",
              "9                     Nintendo EAD  Nintendo  Game Boy Color   1999-05-01   \n",
              "10                        Flagship  Nintendo  Game Boy Color   2001-02-27   \n",
              "11                            Rare  Nintendo        Game Boy   1995-06-26   \n",
              "12                    Nintendo EAD  Nintendo        Game Boy   1993-06-06   \n",
              "13  Hudson Soft and Creatures Inc.  Nintendo  Game Boy Color   1998-12-18   \n",
              "14                   Nintendo R&D1  Nintendo        Game Boy   1990-11-09   \n",
              "15                      Game Freak  Nintendo        Game Boy   1991-12-14   \n",
              "16   Nintendo EAD and Pax Softnica  Nintendo        Game Boy   1994-06-14   \n",
              "17                          Bandai    Bandai        Game Boy   1997-01-01   \n",
              "18                          Konami    Konami  Game Boy Color   2000-12-07   \n",
              "19                          Konami    Konami  Game Boy Color   2000-07-13   \n",
              "\n",
              "       Sales  \n",
              "0   46020000  \n",
              "1   35000000  \n",
              "2   29490000  \n",
              "3   18140000  \n",
              "4   11180000  \n",
              "5    5340000  \n",
              "6    5310000  \n",
              "7    5190000  \n",
              "8    5130000  \n",
              "9    5070000  \n",
              "10   3960000  \n",
              "11   3910000  \n",
              "12   3830000  \n",
              "13   3720000  \n",
              "14   3410000  \n",
              "15   3120000  \n",
              "16   3070000  \n",
              "17   3000000  \n",
              "18   2500000  \n",
              "19   2396518  "
            ],
            "text/html": [
              "\n",
              "  <div id=\"df-6db28e0b-877f-4c2d-a6d2-597737cb2724\">\n",
              "    <div class=\"colab-df-container\">\n",
              "      <div>\n",
              "<style scoped>\n",
              "    .dataframe tbody tr th:only-of-type {\n",
              "        vertical-align: middle;\n",
              "    }\n",
              "\n",
              "    .dataframe tbody tr th {\n",
              "        vertical-align: top;\n",
              "    }\n",
              "\n",
              "    .dataframe thead th {\n",
              "        text-align: right;\n",
              "    }\n",
              "</style>\n",
              "<table border=\"1\" class=\"dataframe\">\n",
              "  <thead>\n",
              "    <tr style=\"text-align: right;\">\n",
              "      <th></th>\n",
              "      <th>Game</th>\n",
              "      <th>Developer(s)</th>\n",
              "      <th>Publisher</th>\n",
              "      <th>Platform</th>\n",
              "      <th>Release date</th>\n",
              "      <th>Sales</th>\n",
              "    </tr>\n",
              "  </thead>\n",
              "  <tbody>\n",
              "    <tr>\n",
              "      <th>0</th>\n",
              "      <td>Pokémon Red / Green / Blue / Yellow</td>\n",
              "      <td>Game Freak</td>\n",
              "      <td>Nintendo</td>\n",
              "      <td>Game Boy</td>\n",
              "      <td>1996-02-27</td>\n",
              "      <td>46020000</td>\n",
              "    </tr>\n",
              "    <tr>\n",
              "      <th>1</th>\n",
              "      <td>Tetris</td>\n",
              "      <td>Nintendo R&amp;D1</td>\n",
              "      <td>Nintendo</td>\n",
              "      <td>Game Boy</td>\n",
              "      <td>1989-06-14</td>\n",
              "      <td>35000000</td>\n",
              "    </tr>\n",
              "    <tr>\n",
              "      <th>2</th>\n",
              "      <td>Pokémon Gold / Silver / Crystal</td>\n",
              "      <td>Game Freak</td>\n",
              "      <td>Nintendo</td>\n",
              "      <td>Game Boy Color</td>\n",
              "      <td>1999-11-21</td>\n",
              "      <td>29490000</td>\n",
              "    </tr>\n",
              "    <tr>\n",
              "      <th>3</th>\n",
              "      <td>Super Mario Land</td>\n",
              "      <td>Nintendo R&amp;D1</td>\n",
              "      <td>Nintendo</td>\n",
              "      <td>Game Boy</td>\n",
              "      <td>1989-04-21</td>\n",
              "      <td>18140000</td>\n",
              "    </tr>\n",
              "    <tr>\n",
              "      <th>4</th>\n",
              "      <td>Super Mario Land 2: 6 Golden Coins</td>\n",
              "      <td>Nintendo R&amp;D1</td>\n",
              "      <td>Nintendo</td>\n",
              "      <td>Game Boy</td>\n",
              "      <td>1992-10-21</td>\n",
              "      <td>11180000</td>\n",
              "    </tr>\n",
              "    <tr>\n",
              "      <th>5</th>\n",
              "      <td>Dr. Mario</td>\n",
              "      <td>Nintendo R&amp;D1</td>\n",
              "      <td>Nintendo</td>\n",
              "      <td>Game Boy</td>\n",
              "      <td>1990-07-27</td>\n",
              "      <td>5340000</td>\n",
              "    </tr>\n",
              "    <tr>\n",
              "      <th>6</th>\n",
              "      <td>Pokémon Pinball</td>\n",
              "      <td>Jupiter</td>\n",
              "      <td>Nintendo</td>\n",
              "      <td>Game Boy Color</td>\n",
              "      <td>1999-04-14</td>\n",
              "      <td>5310000</td>\n",
              "    </tr>\n",
              "    <tr>\n",
              "      <th>7</th>\n",
              "      <td>Wario Land: Super Mario Land 3</td>\n",
              "      <td>Nintendo R&amp;D1</td>\n",
              "      <td>Nintendo</td>\n",
              "      <td>Game Boy</td>\n",
              "      <td>1994-01-21</td>\n",
              "      <td>5190000</td>\n",
              "    </tr>\n",
              "    <tr>\n",
              "      <th>8</th>\n",
              "      <td>Kirby's Dream Land</td>\n",
              "      <td>HAL Laboratory</td>\n",
              "      <td>Nintendo</td>\n",
              "      <td>Game Boy</td>\n",
              "      <td>1992-04-27</td>\n",
              "      <td>5130000</td>\n",
              "    </tr>\n",
              "    <tr>\n",
              "      <th>9</th>\n",
              "      <td>Super Mario Bros. Deluxe</td>\n",
              "      <td>Nintendo EAD</td>\n",
              "      <td>Nintendo</td>\n",
              "      <td>Game Boy Color</td>\n",
              "      <td>1999-05-01</td>\n",
              "      <td>5070000</td>\n",
              "    </tr>\n",
              "    <tr>\n",
              "      <th>10</th>\n",
              "      <td>The Legend of Zelda: Oracle of Seasons and Ora...</td>\n",
              "      <td>Flagship</td>\n",
              "      <td>Nintendo</td>\n",
              "      <td>Game Boy Color</td>\n",
              "      <td>2001-02-27</td>\n",
              "      <td>3960000</td>\n",
              "    </tr>\n",
              "    <tr>\n",
              "      <th>11</th>\n",
              "      <td>Donkey Kong Land</td>\n",
              "      <td>Rare</td>\n",
              "      <td>Nintendo</td>\n",
              "      <td>Game Boy</td>\n",
              "      <td>1995-06-26</td>\n",
              "      <td>3910000</td>\n",
              "    </tr>\n",
              "    <tr>\n",
              "      <th>12</th>\n",
              "      <td>The Legend of Zelda: Link's Awakening</td>\n",
              "      <td>Nintendo EAD</td>\n",
              "      <td>Nintendo</td>\n",
              "      <td>Game Boy</td>\n",
              "      <td>1993-06-06</td>\n",
              "      <td>3830000</td>\n",
              "    </tr>\n",
              "    <tr>\n",
              "      <th>13</th>\n",
              "      <td>Pokémon Trading Card Game</td>\n",
              "      <td>Hudson Soft and Creatures Inc.</td>\n",
              "      <td>Nintendo</td>\n",
              "      <td>Game Boy Color</td>\n",
              "      <td>1998-12-18</td>\n",
              "      <td>3720000</td>\n",
              "    </tr>\n",
              "    <tr>\n",
              "      <th>14</th>\n",
              "      <td>F-1 Race</td>\n",
              "      <td>Nintendo R&amp;D1</td>\n",
              "      <td>Nintendo</td>\n",
              "      <td>Game Boy</td>\n",
              "      <td>1990-11-09</td>\n",
              "      <td>3410000</td>\n",
              "    </tr>\n",
              "    <tr>\n",
              "      <th>15</th>\n",
              "      <td>Yoshi</td>\n",
              "      <td>Game Freak</td>\n",
              "      <td>Nintendo</td>\n",
              "      <td>Game Boy</td>\n",
              "      <td>1991-12-14</td>\n",
              "      <td>3120000</td>\n",
              "    </tr>\n",
              "    <tr>\n",
              "      <th>16</th>\n",
              "      <td>Donkey Kong</td>\n",
              "      <td>Nintendo EAD and Pax Softnica</td>\n",
              "      <td>Nintendo</td>\n",
              "      <td>Game Boy</td>\n",
              "      <td>1994-06-14</td>\n",
              "      <td>3070000</td>\n",
              "    </tr>\n",
              "    <tr>\n",
              "      <th>17</th>\n",
              "      <td>Tamagotchi (Game de Hakken!! Tamagotchi)</td>\n",
              "      <td>Bandai</td>\n",
              "      <td>Bandai</td>\n",
              "      <td>Game Boy</td>\n",
              "      <td>1997-01-01</td>\n",
              "      <td>3000000</td>\n",
              "    </tr>\n",
              "    <tr>\n",
              "      <th>18</th>\n",
              "      <td>Yu-Gi-Oh! Duel Monsters 4: Battle of Great Due...</td>\n",
              "      <td>Konami</td>\n",
              "      <td>Konami</td>\n",
              "      <td>Game Boy Color</td>\n",
              "      <td>2000-12-07</td>\n",
              "      <td>2500000</td>\n",
              "    </tr>\n",
              "    <tr>\n",
              "      <th>19</th>\n",
              "      <td>Yu-Gi-Oh! Dark Duel Stories</td>\n",
              "      <td>Konami</td>\n",
              "      <td>Konami</td>\n",
              "      <td>Game Boy Color</td>\n",
              "      <td>2000-07-13</td>\n",
              "      <td>2396518</td>\n",
              "    </tr>\n",
              "  </tbody>\n",
              "</table>\n",
              "</div>\n",
              "      <button class=\"colab-df-convert\" onclick=\"convertToInteractive('df-6db28e0b-877f-4c2d-a6d2-597737cb2724')\"\n",
              "              title=\"Convert this dataframe to an interactive table.\"\n",
              "              style=\"display:none;\">\n",
              "        \n",
              "  <svg xmlns=\"http://www.w3.org/2000/svg\" height=\"24px\"viewBox=\"0 0 24 24\"\n",
              "       width=\"24px\">\n",
              "    <path d=\"M0 0h24v24H0V0z\" fill=\"none\"/>\n",
              "    <path d=\"M18.56 5.44l.94 2.06.94-2.06 2.06-.94-2.06-.94-.94-2.06-.94 2.06-2.06.94zm-11 1L8.5 8.5l.94-2.06 2.06-.94-2.06-.94L8.5 2.5l-.94 2.06-2.06.94zm10 10l.94 2.06.94-2.06 2.06-.94-2.06-.94-.94-2.06-.94 2.06-2.06.94z\"/><path d=\"M17.41 7.96l-1.37-1.37c-.4-.4-.92-.59-1.43-.59-.52 0-1.04.2-1.43.59L10.3 9.45l-7.72 7.72c-.78.78-.78 2.05 0 2.83L4 21.41c.39.39.9.59 1.41.59.51 0 1.02-.2 1.41-.59l7.78-7.78 2.81-2.81c.8-.78.8-2.07 0-2.86zM5.41 20L4 18.59l7.72-7.72 1.47 1.35L5.41 20z\"/>\n",
              "  </svg>\n",
              "      </button>\n",
              "      \n",
              "  <style>\n",
              "    .colab-df-container {\n",
              "      display:flex;\n",
              "      flex-wrap:wrap;\n",
              "      gap: 12px;\n",
              "    }\n",
              "\n",
              "    .colab-df-convert {\n",
              "      background-color: #E8F0FE;\n",
              "      border: none;\n",
              "      border-radius: 50%;\n",
              "      cursor: pointer;\n",
              "      display: none;\n",
              "      fill: #1967D2;\n",
              "      height: 32px;\n",
              "      padding: 0 0 0 0;\n",
              "      width: 32px;\n",
              "    }\n",
              "\n",
              "    .colab-df-convert:hover {\n",
              "      background-color: #E2EBFA;\n",
              "      box-shadow: 0px 1px 2px rgba(60, 64, 67, 0.3), 0px 1px 3px 1px rgba(60, 64, 67, 0.15);\n",
              "      fill: #174EA6;\n",
              "    }\n",
              "\n",
              "    [theme=dark] .colab-df-convert {\n",
              "      background-color: #3B4455;\n",
              "      fill: #D2E3FC;\n",
              "    }\n",
              "\n",
              "    [theme=dark] .colab-df-convert:hover {\n",
              "      background-color: #434B5C;\n",
              "      box-shadow: 0px 1px 3px 1px rgba(0, 0, 0, 0.15);\n",
              "      filter: drop-shadow(0px 1px 2px rgba(0, 0, 0, 0.3));\n",
              "      fill: #FFFFFF;\n",
              "    }\n",
              "  </style>\n",
              "\n",
              "      <script>\n",
              "        const buttonEl =\n",
              "          document.querySelector('#df-6db28e0b-877f-4c2d-a6d2-597737cb2724 button.colab-df-convert');\n",
              "        buttonEl.style.display =\n",
              "          google.colab.kernel.accessAllowed ? 'block' : 'none';\n",
              "\n",
              "        async function convertToInteractive(key) {\n",
              "          const element = document.querySelector('#df-6db28e0b-877f-4c2d-a6d2-597737cb2724');\n",
              "          const dataTable =\n",
              "            await google.colab.kernel.invokeFunction('convertToInteractive',\n",
              "                                                     [key], {});\n",
              "          if (!dataTable) return;\n",
              "\n",
              "          const docLinkHtml = 'Like what you see? Visit the ' +\n",
              "            '<a target=\"_blank\" href=https://colab.research.google.com/notebooks/data_table.ipynb>data table notebook</a>'\n",
              "            + ' to learn more about interactive tables.';\n",
              "          element.innerHTML = '';\n",
              "          dataTable['output_type'] = 'display_data';\n",
              "          await google.colab.output.renderOutput(dataTable, element);\n",
              "          const docLink = document.createElement('div');\n",
              "          docLink.innerHTML = docLinkHtml;\n",
              "          element.appendChild(docLink);\n",
              "        }\n",
              "      </script>\n",
              "    </div>\n",
              "  </div>\n",
              "  "
            ]
          },
          "metadata": {},
          "execution_count": 5
        }
      ]
    },
    {
      "cell_type": "markdown",
      "source": [
        "Looking to this dataframe we can see that top 16 selling games are from Nintendo and it will affect in other datas we will see."
      ],
      "metadata": {
        "id": "DdT5LFHleAuU"
      }
    },
    {
      "cell_type": "code",
      "source": [
        "#getting top selling gameboy games\n",
        "\n",
        "top = df.head(20)\n",
        "top = top.set_index('Game')\n",
        "top['Sales'].plot(kind='bar')\n",
        "plt.yticks([0, 10000000, 20000000, 30000000, 40000000, 50000000])\n",
        "plt.title('Top 20 Games by Sales')\n",
        "plt.xlabel('Game')\n",
        "plt.ylabel('Sales in 10.000.000x scale')"
      ],
      "metadata": {
        "colab": {
          "base_uri": "https://localhost:8080/",
          "height": 599
        },
        "id": "jNHN6kQdY_qw",
        "outputId": "39d20e46-9663-4ee4-d3d3-938ffa59245b"
      },
      "execution_count": null,
      "outputs": [
        {
          "output_type": "execute_result",
          "data": {
            "text/plain": [
              "Text(0, 0.5, 'Sales in 10.000.000x scale')"
            ]
          },
          "metadata": {},
          "execution_count": 7
        },
        {
          "output_type": "display_data",
          "data": {
            "text/plain": [
              "<Figure size 432x288 with 1 Axes>"
            ],
            "image/png": "[encoded data removed]"
          },
          "metadata": {
            "needs_background": "light"
          }
        }
      ]
    },
    {
      "cell_type": "markdown",
      "source": [
        "Using a bar chart, we can see the top selling games. "
      ],
      "metadata": {
        "id": "CvckR9LYdUrp"
      }
    },
    {
      "cell_type": "code",
      "source": [
        "publisher = df.groupby('Publisher').sum()\n",
        "salesPerPublisher = publisher['Sales']\n",
        "salesPerPublisher.plot(kind='bar')\n",
        "plt.title('Sales Per Publisher ')\n",
        "salesValues = [i for i in publisher['Sales']]\n",
        "print(salesValues)\n",
        "plt.yticks(salesValues)\n",
        "plt.xlabel('Publisher')\n",
        "plt.ylabel('Sales in millions')\n",
        "\n",
        "plt.show()"
      ],
      "metadata": {
        "colab": {
          "base_uri": "https://localhost:8080/",
          "height": 359
        },
        "id": "JNl4RprWUj_m",
        "outputId": "13275cf6-5939-4398-f958-452b0423d425"
      },
      "execution_count": null,
      "outputs": [
        {
          "output_type": "stream",
          "name": "stdout",
          "text": [
            "[4450000, 7430000, 3920000, 1000000, 3000000, 7956518, 235560000, 1370000]\n"
          ]
        },
        {
          "output_type": "display_data",
          "data": {
            "text/plain": [
              "<Figure size 432x288 with 1 Axes>"
            ],
            "image/png": "[encoded data removed]"
          },
          "metadata": {
            "needs_background": "light"
          }
        }
      ]
    },
    {
      "cell_type": "code",
      "source": [
        "publisher.info"
      ],
      "metadata": {
        "colab": {
          "base_uri": "https://localhost:8080/"
        },
        "id": "pxUUZa9Vcu-n",
        "outputId": "1685e00f-35c6-4de5-e02e-e564afcb8fe4"
      },
      "execution_count": null,
      "outputs": [
        {
          "output_type": "execute_result",
          "data": {
            "text/plain": [
              "<bound method DataFrame.info of                 Sales\n",
              "Publisher            \n",
              "Bandai        4450000\n",
              "Capcom        7430000\n",
              "Enix          3920000\n",
              "Infogrames    1000000\n",
              "Kemco         3000000\n",
              "Konami        7956518\n",
              "Nintendo    235560000\n",
              "Square        1370000>"
            ]
          },
          "metadata": {},
          "execution_count": 9
        }
      ]
    },
    {
      "cell_type": "markdown",
      "source": [
        "As we can see in last two cells, Nintendo has **MUCH** more sells than any other company.  "
      ],
      "metadata": {
        "id": "Rd3wo9qFcsX9"
      }
    },
    {
      "cell_type": "code",
      "source": [
        "gameboycolorgames = df.loc[df['Platform'] == 'Game Boy Color']\n",
        "gameboygames = df.loc[df['Platform'] == 'Game Boy']\n",
        "print(\"Game Boy Sales: \",locale.currency(gameboygames['Sales'].sum()))\n",
        "print(\"Game Boy Color Sales: \",locale.currency(gameboycolorgames['Sales'].sum()))"
      ],
      "metadata": {
        "colab": {
          "base_uri": "https://localhost:8080/"
        },
        "id": "bQVakXbwbKAI",
        "outputId": "67588950-5891-4097-bf82-8835169b4c55"
      },
      "execution_count": null,
      "outputs": [
        {
          "output_type": "stream",
          "name": "stdout",
          "text": [
            "Game Boy Sales:  $193530000.00\n",
            "Game Boy Color Sales:  $71156518.00\n"
          ]
        }
      ]
    },
    {
      "cell_type": "code",
      "source": [
        "df['Platform'].value_counts()"
      ],
      "metadata": {
        "colab": {
          "base_uri": "https://localhost:8080/"
        },
        "id": "KM8iKS42emOA",
        "outputId": "aaa3b86d-5d95-4ab8-b676-f7fe1cec7bd2"
      },
      "execution_count": null,
      "outputs": [
        {
          "output_type": "execute_result",
          "data": {
            "text/plain": [
              "Game Boy          48\n",
              "Game Boy Color    18\n",
              "Name: Platform, dtype: int64"
            ]
          },
          "metadata": {},
          "execution_count": 11
        }
      ]
    },
    {
      "cell_type": "markdown",
      "source": [
        "In the same way that Game Boy has more games than Game Boy Color, it has a bigger sales value in dollar."
      ],
      "metadata": {
        "id": "Ck5ex4B9f8PA"
      }
    }
  ]
}